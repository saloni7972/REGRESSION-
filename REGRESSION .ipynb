{
 "cells": [
  {
   "cell_type": "markdown",
   "id": "47e78de3-431c-42ac-b571-74e4ae91972b",
   "metadata": {},
   "source": [
    "# ASSIGNMENT "
   ]
  },
  {
   "cell_type": "markdown",
   "id": "ce354096-cf43-48c4-8768-cc9e0feea905",
   "metadata": {},
   "source": [
    "Q1. What is Elastic Net Regression and how does it differ from other regression techniques?"
   ]
  },
  {
   "cell_type": "markdown",
   "id": "bae81d54-0f88-4cfe-ad22-0b336bd44c42",
   "metadata": {},
   "source": [
    "ANSWER==\n",
    "lastic net (also called ELNET) regression is a statistical hybrid method that combines two of the most often used regularized linear regression techniques, lasso, and ridge, to deal with multicollinearity issues when they arise between predictor variables. Regularization aids in solving the overfitting issues with the models.\n",
    "\n",
    "The elastic net method includes the LASSO and ridge regression: in other words, each of them is a special case where or . Meanwhile, the naive version of elastic net method finds an estimator in a two-stage procedure : first for each fixed it finds the ridge regression coefficients, and then does a LASSO type shrinkage."
   ]
  },
  {
   "cell_type": "markdown",
   "id": "96fc03f5-5274-4242-852c-f827cb71e2ef",
   "metadata": {},
   "source": [
    "Q2. How do you choose the optimal values of the regularization parameters for Elastic Net Regression?"
   ]
  },
  {
   "cell_type": "markdown",
   "id": "b9e71274-8714-4478-a1ef-7100492deb0c",
   "metadata": {},
   "source": [
    "ANSWER==\n",
    "When applying regularized logistic regression: I split my data into training, cross-validation and test sets. I want to apply regularization and am working on choosing the regularization parameter lambda. To do so, I try different values of lambda and fit the parameter theta of my hypothesis on the training set. Then, I choose the value of lambda that gives me the lowest cost function on the validation set. "
   ]
  },
  {
   "cell_type": "markdown",
   "id": "c2722683-b44d-4273-972c-ee3fc642b600",
   "metadata": {},
   "source": [
    "Q3. What are the advantages and disadvantages of Elastic Net Regression?"
   ]
  },
  {
   "cell_type": "markdown",
   "id": "d8b621c7-e28f-423a-bfb1-37cc4b9aa771",
   "metadata": {},
   "source": [
    "ANSWER==\n",
    "ADVANTAGES=\n",
    "advantages of elastic net is that it can handle multicollinearity, which is when some predictors are highly correlated with each other. Lasso can suffer from instability and inconsistency when there is multicollinearity, as it may arbitrarily select one predictor over another. Ridge can handle multicollinearity better, but it may keep too many predictors that are not relevant. Elastic net can overcome these problems by selecting a subset of predictors that are correlated, but not redundant.\n",
    "\n",
    "Another advantages of elastic net is that it can reduce overfitting, which is when the model fits the training data too well, but performs poorly on new or unseen data. Lasso and ridge can also reduce overfitting by adding regularization, but elastic net can do it more effectively by combining the benefits of both methods. Elastic net can balance the bias-variance trade-off by finding a middle ground between underfitting and overfitting.\n",
    "\n",
    "DISADVANTAGES=\n",
    "It doesn't have the problem of selecting more than npredictors when Whereas lasso saturates when p≫n\n",
    "When there are highly correlated predictors lasso tends to just pick one predictor out of the group.\n",
    "When n≫p and the predictors are correlated, the prediction performance of lasso is smaller than that of ridge."
   ]
  },
  {
   "cell_type": "markdown",
   "id": "968f1c1f-c221-40ec-8dc5-9b36dc7cad88",
   "metadata": {},
   "source": [
    "Q4. What are some common use cases for Elastic Net Regression?"
   ]
  },
  {
   "cell_type": "markdown",
   "id": "c22a7ab1-f456-4c1d-8b14-4f37fe253cb2",
   "metadata": {},
   "source": [
    "ANSWER==\n",
    "Elastic net regression has several advantages over other linear regression methods. First, it can handle multicollinearity, which is a situation where some predictors are highly correlated with each other. Multicollinearity can cause instability and bias in the coefficients, and make interpretation difficult. Elastic net regression can reduce the variance and improve the accuracy of the coefficients by shrinking them towards each other. Second, it can perform variable selection, which is a process of choosing the most relevant predictors for the model. Variable selection can reduce the complexity and improve the performance of the model, especially when there are many predictors or some predictors are irrelevant or redundant. Elastic net regression can perform variable selection by setting some coefficients to zero and excluding them from the model. Third, it can handle high-dimensional data, which is a situation where there are more predictors than observations. High-dimensional data can cause overfitting and poor generalization of the model. Elastic net regression can avoid overfitting and enhance generalization by imposing a constraint on the magnitude of the coefficients."
   ]
  },
  {
   "cell_type": "markdown",
   "id": "ad1814cd-dbda-4337-b7ef-9d87baee1ac3",
   "metadata": {},
   "source": [
    "Q5. How do you interpret the coefficients in Elastic Net Regression?"
   ]
  },
  {
   "cell_type": "markdown",
   "id": "b9019877-7a5a-407f-9891-6e910efca23e",
   "metadata": {},
   "source": [
    "ANSWER==\n",
    "Thomas, elastic net regression (and ridge regression and lasso) just bias the parameters towards 0 (through penalty or constraint), This reduces the high variability due to high multicolinearity, but the individual coefficients are still adjusted for each other within the constraint, so the relationships between variables will still affect the coefficients (at least until the constraint/penalty is severe enough to leave at most one non-zero coefficient)."
   ]
  },
  {
   "cell_type": "markdown",
   "id": "249e14a7-c927-40fe-93ee-e138311bf790",
   "metadata": {},
   "source": [
    "Q6. How do you handle missing values when using Elastic Net Regression?"
   ]
  },
  {
   "cell_type": "markdown",
   "id": "cf8652e4-1dea-4b8b-be3a-ce17873acbe8",
   "metadata": {},
   "source": [
    "ANSWER==\n",
    "Simple approaches include taking the average of the column and use that value, or if there is a heavy skew the median might be better. A better approach, you can perform regression or nearest neighbor imputation on the column to predict the missing values. Then continue on with your analysis/model."
   ]
  },
  {
   "cell_type": "markdown",
   "id": "9e185c03-9979-4d5c-86a9-82761b0543a4",
   "metadata": {},
   "source": [
    "Q7. How do you use Elastic Net Regression for feature selection?"
   ]
  },
  {
   "cell_type": "markdown",
   "id": "2e37d9d4-2423-4459-9470-b4089215c364",
   "metadata": {},
   "source": [
    "ANSWER==\n",
    "Feature selection is the process of identifying and selecting a subset of input variables that are most relevant to the target variable.\n",
    "  Perhaps the simplest case of feature selection is the case where there are numerical input variables and a numerical target for regression predictive modeling. This is because the strength of the relationship between each input variable and the target can be calculated, called correlation, and compared relative to each other.\n",
    "In this tutorial, you will discover how to perform feature selection with numerical input data for regression predictive modeling."
   ]
  },
  {
   "cell_type": "markdown",
   "id": "21a45352-14fe-49dc-8023-609778fe2a97",
   "metadata": {},
   "source": [
    "Q8. How do you pickle and unpickle a trained Elastic Net Regression model in Python?"
   ]
  },
  {
   "cell_type": "markdown",
   "id": "eabb794d-456a-4e99-b284-9bd53f07f144",
   "metadata": {},
   "source": [
    "ANSWER==\n",
    "Python comes with a built-in package, known as pickle, that can be used to perform “pickling” and “unpickling” operations. Pickling and unpickling in Python is the process that is used to describe the conversion of objects into byte streams and vice versa - serialization and deserialization, using Python's pickle module.\n"
   ]
  },
  {
   "cell_type": "markdown",
   "id": "621bd762-1a1e-45a7-b576-c2ad4ef1d292",
   "metadata": {},
   "source": [
    "Q9. What is the purpose of pickling a model in machine learning?"
   ]
  },
  {
   "cell_type": "markdown",
   "id": "25adb2bc-5d25-455a-ac42-d1b192dd0bdd",
   "metadata": {},
   "source": [
    "ANSWER==\n",
    "Pickle is a generic object serialization module that can be used for serializing and deserializing objects. While it’s most commonly associated with saving and reloading trained machine learning models, it can actually be used on any kind of object. Here’s how you can use Pickle to save a trained model to a file and reload it to obtain predictions."
   ]
  }
 ],
 "metadata": {
  "kernelspec": {
   "display_name": "Python 3 (ipykernel)",
   "language": "python",
   "name": "python3"
  },
  "language_info": {
   "codemirror_mode": {
    "name": "ipython",
    "version": 3
   },
   "file_extension": ".py",
   "mimetype": "text/x-python",
   "name": "python",
   "nbconvert_exporter": "python",
   "pygments_lexer": "ipython3",
   "version": "3.10.8"
  }
 },
 "nbformat": 4,
 "nbformat_minor": 5
}
